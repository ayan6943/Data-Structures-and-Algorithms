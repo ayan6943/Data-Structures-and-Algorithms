{
  "nbformat": 4,
  "nbformat_minor": 0,
  "metadata": {
    "colab": {
      "provenance": [],
      "authorship_tag": "ABX9TyOCyMc2iRKu8Li+Z+E1uW3b",
      "include_colab_link": true
    },
    "kernelspec": {
      "name": "python3",
      "display_name": "Python 3"
    },
    "language_info": {
      "name": "python"
    }
  },
  "cells": [
    {
      "cell_type": "markdown",
      "metadata": {
        "id": "view-in-github",
        "colab_type": "text"
      },
      "source": [
        "<a href=\"https://colab.research.google.com/github/ayan6943/Data-Structures-and-Algorithms/blob/main/Sorting.ipynb\" target=\"_parent\"><img src=\"https://colab.research.google.com/assets/colab-badge.svg\" alt=\"Open In Colab\"/></a>"
      ]
    },
    {
      "cell_type": "code",
      "source": [
        "def bubble_sort(arr):\n",
        "    n = len(arr)\n",
        "    for i in range(n):\n",
        "        # Last i elements are already sorted\n",
        "        swapped = False\n",
        "        # Traverse the array from 0 to n-i-1\n",
        "        # Swap if the element found is greater than the next element\n",
        "        for j in range(0, n-i-1):\n",
        "            if arr[j] > arr[j+1]:\n",
        "                arr[j], arr[j+1] = arr[j+1], arr[j]\n",
        "                swapped = True\n",
        "        # If no elements were swapped in the inner loop, then the array is already sorted\n",
        "        if not swapped:\n",
        "            break\n",
        "# Example usage\n",
        "arr = [64, 34, 25, 12, 22, 11, 90]\n",
        "print(\"Original array:\", arr)\n",
        "bubble_sort(arr)\n",
        "print(\"Sorted array:\", arr)\n"
      ],
      "metadata": {
        "colab": {
          "base_uri": "https://localhost:8080/"
        },
        "id": "tzLbwevVDJo2",
        "outputId": "9c3a98d3-eda9-4d47-fcd5-5b133044b975"
      },
      "execution_count": 1,
      "outputs": [
        {
          "output_type": "stream",
          "name": "stdout",
          "text": [
            "Original array: [64, 34, 25, 12, 22, 11, 90]\n",
            "Sorted array: [11, 12, 22, 25, 34, 64, 90]\n"
          ]
        }
      ]
    },
    {
      "cell_type": "code",
      "execution_count": null,
      "metadata": {
        "colab": {
          "base_uri": "https://localhost:8080/"
        },
        "id": "fVWUKs4QeN16",
        "outputId": "01c5bc1e-b572-4848-bb31-d8c73c3abb97"
      },
      "outputs": [
        {
          "output_type": "stream",
          "name": "stdout",
          "text": [
            "[2, 3, 5, 6, 7, 8]\n"
          ]
        }
      ],
      "source": [
        "#Selection sort\n",
        "a = [3, 2, 5, 7, 6, 8]\n",
        "n = len(a)\n",
        "for i in range(n - 1):\n",
        "    min_index = i\n",
        "    for j in range(i + 1, n):\n",
        "        if a[j] < a[min_index]:\n",
        "            min_index = j\n",
        "    a[i], a[min_index] = a[min_index], a[i]\n",
        "print(a)"
      ]
    },
    {
      "cell_type": "code",
      "source": [
        "#Quick Sort\n",
        "def part(a, l, h):\n",
        "    pi = a[l]\n",
        "    s = l\n",
        "    e = h\n",
        "    while True:\n",
        "        while s <= e and a[s] <= pi:\n",
        "            s += 1\n",
        "        while s <= e and a[e] >= pi:\n",
        "            e -= 1\n",
        "        if s <= e:\n",
        "            a[s], a[e] = a[e], a[s]\n",
        "        else:\n",
        "            break\n",
        "    a[l], a[e] = a[e], a[l]\n",
        "    return e\n",
        "\n",
        "def qs(a, l, h):\n",
        "    if l < h:\n",
        "        x = part(a, l, h)\n",
        "        qs(a, l, x - 1)\n",
        "        qs(a, x + 1, h)\n",
        "\n",
        "a = [13, 72, 45,300, 58 ]\n",
        "qs(a, 0, len(a) - 1)\n",
        "print(a)\n"
      ],
      "metadata": {
        "colab": {
          "base_uri": "https://localhost:8080/"
        },
        "id": "aBWe6bxPzh_k",
        "outputId": "d80d074d-19b1-4e53-e171-8b5faf01b704"
      },
      "execution_count": null,
      "outputs": [
        {
          "output_type": "stream",
          "name": "stdout",
          "text": [
            "[13, 45, 58, 72, 300]\n"
          ]
        }
      ]
    },
    {
      "cell_type": "code",
      "source": [
        "#Merge Sort\n",
        "def ms(l, r):\n",
        "    i = 0\n",
        "    j = 0\n",
        "    res = []\n",
        "    while i < len(l) and j < len(r):\n",
        "        if l[i] < r[j]:\n",
        "            res.append(l[i])\n",
        "            i += 1\n",
        "        else:\n",
        "            res.append(r[j])\n",
        "            j += 1\n",
        "    res.extend(l[i:])\n",
        "    res.extend(r[j:])\n",
        "    return res\n",
        "\n",
        "def merge(a, low, high):\n",
        "    if low >= high:\n",
        "        return a[low:high+1]\n",
        "    mid = (low + high) // 2\n",
        "    l = merge(a, low, mid)\n",
        "    r = merge(a, mid + 1, high)\n",
        "    return ms(l, r)\n",
        "\n",
        "a = [33,4,5,67,1,24,10]\n",
        "a = merge(a, 0, len(a) - 1)\n",
        "print(a)\n"
      ],
      "metadata": {
        "colab": {
          "base_uri": "https://localhost:8080/"
        },
        "id": "lUhtXxgLJKVs",
        "outputId": "3eb6c9bb-4120-46ec-ffca-b8699737ae60"
      },
      "execution_count": null,
      "outputs": [
        {
          "output_type": "stream",
          "name": "stdout",
          "text": [
            "[1, 4, 5, 10, 24, 33, 67]\n"
          ]
        }
      ]
    },
    {
      "cell_type": "code",
      "source": [
        "#Insertion Sort\n",
        "a = [2, 5, 3, 7, 4, 1]\n",
        "n = len(a)\n",
        "for i in range(0, n):\n",
        "    for j in range(i, 0, -1):\n",
        "        if a[j - 1] > a[j]:\n",
        "            a[j - 1], a[j] = a[j], a[j - 1]\n",
        "print(a)"
      ],
      "metadata": {
        "colab": {
          "base_uri": "https://localhost:8080/"
        },
        "id": "-fFpHnHIr90J",
        "outputId": "8678e743-25c5-4b32-9a87-5f244fdab85e"
      },
      "execution_count": null,
      "outputs": [
        {
          "output_type": "stream",
          "name": "stdout",
          "text": [
            "[1, 2, 3, 4, 5, 7]\n"
          ]
        }
      ]
    },
    {
      "cell_type": "code",
      "source": [
        "#Radix Sort\n",
        "def countingsort(a,place):\n",
        "  size=len(a)\n",
        "  bucket=[0]*10\n",
        "  output=[0]*size\n",
        "  for i in range(0, size):\n",
        "        index = a[i] // place\n",
        "        bucket[index % 10] += 1\n",
        "  for i in range(1,9):\n",
        "    bucket[i]=bucket[i]+bucket[i-1]\n",
        "  i=size-1\n",
        "  while i>=0:\n",
        "        index = a[i] // place\n",
        "        output[bucket[index % 10] - 1] = a[i]\n",
        "        bucket[index % 10] -= 1\n",
        "        i -= 1\n",
        "  for i in range(0, size):\n",
        "        a[i] = output[i]\n",
        "def radix(a):\n",
        "  num=max(a)\n",
        "  place=1\n",
        "  while num//place>0:\n",
        "    countingsort(a,place)\n",
        "    place*=10\n",
        "\n",
        "data = [121, 432, 564, 23, 1, 45, 788]\n",
        "radix(data)\n",
        "print(data)"
      ],
      "metadata": {
        "id": "khh5WNMCEUBj",
        "colab": {
          "base_uri": "https://localhost:8080/"
        },
        "outputId": "fbe9af3f-3daf-4184-a869-4c6015d1772e"
      },
      "execution_count": null,
      "outputs": [
        {
          "output_type": "stream",
          "name": "stdout",
          "text": [
            "[1, 23, 45, 121, 432, 564, 788]\n"
          ]
        }
      ]
    }
  ]
}