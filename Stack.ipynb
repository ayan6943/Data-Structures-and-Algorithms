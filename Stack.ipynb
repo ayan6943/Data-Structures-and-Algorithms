{
  "nbformat": 4,
  "nbformat_minor": 0,
  "metadata": {
    "colab": {
      "provenance": [],
      "authorship_tag": "ABX9TyNvBLlkTOAmSEuTS697hc/G",
      "include_colab_link": true
    },
    "kernelspec": {
      "name": "python3",
      "display_name": "Python 3"
    },
    "language_info": {
      "name": "python"
    }
  },
  "cells": [
    {
      "cell_type": "markdown",
      "metadata": {
        "id": "view-in-github",
        "colab_type": "text"
      },
      "source": [
        "<a href=\"https://colab.research.google.com/github/ayan6943/Data-Structures-and-Algorithms/blob/main/Stack.ipynb\" target=\"_parent\"><img src=\"https://colab.research.google.com/assets/colab-badge.svg\" alt=\"Open In Colab\"/></a>"
      ]
    },
    {
      "cell_type": "code",
      "execution_count": null,
      "metadata": {
        "colab": {
          "base_uri": "https://localhost:8080/"
        },
        "id": "fFSPxTxPZnNQ",
        "outputId": "3f707f80-b29b-4d73-e073-13f3b4d21ca0"
      },
      "outputs": [
        {
          "output_type": "stream",
          "name": "stdout",
          "text": [
            "5\n",
            "2\n",
            "5\n"
          ]
        }
      ],
      "source": [
        "stack = [0]*5\n",
        "top = -1\n",
        "def push(e):\n",
        "    global top\n",
        "    if top == 4:\n",
        "        print(\"Stack Overflow\")\n",
        "    else:\n",
        "        top = top + 1\n",
        "        stack[top] = e\n",
        "def pop():\n",
        "    global top\n",
        "    if top == -1:\n",
        "        print(\"Stack Underflow\")\n",
        "    else:\n",
        "        top = top - 1\n",
        "def display():\n",
        "    if top == -1:\n",
        "        print(\"Stack Underflow\")\n",
        "    else:\n",
        "        for i in range(top, -1, -1):\n",
        "            print(stack[i])\n",
        "push(5)\n",
        "push(2)\n",
        "push(3)\n",
        "pop()\n",
        "display()\n"
      ]
    },
    {
      "cell_type": "code",
      "source": [
        "class Stack:\n",
        "    def __init__(self, max_size):\n",
        "        self.max_size = max_size\n",
        "        self.stack = []\n",
        "        self.top = -1\n",
        "    def is_empty(self):\n",
        "        return self.top == -1\n",
        "    def push(self, element):\n",
        "        if self.top==self.max_size-1:\n",
        "            print(\"Stack Overflow\")\n",
        "        else:\n",
        "            self.top += 1\n",
        "            self.stack.append(element)\n",
        "    def pop(self):\n",
        "        if self.is_empty():\n",
        "            print(\"Stack Underflow\")\n",
        "            return None\n",
        "        else:\n",
        "            self.stack.pop()\n",
        "            self.top -= 1\n",
        "    def display(self):\n",
        "        if self.is_empty():\n",
        "            print(\"Stack is empty\")\n",
        "        else:\n",
        "            for i in range(self.top, -1, -1):\n",
        "                print(self.stack[i])\n",
        "my_stack = Stack(5)\n",
        "my_stack.push(5)\n",
        "my_stack.push(2)\n",
        "my_stack.push(3)\n",
        "my_stack.pop()\n",
        "my_stack.display()\n"
      ],
      "metadata": {
        "id": "0RegHpJ-e-P2",
        "colab": {
          "base_uri": "https://localhost:8080/"
        },
        "outputId": "b386662b-b260-46a3-873d-7dbfef694490"
      },
      "execution_count": null,
      "outputs": [
        {
          "output_type": "stream",
          "name": "stdout",
          "text": [
            "2\n",
            "5\n"
          ]
        }
      ]
    },
    {
      "cell_type": "code",
      "source": [
        "# Postfix Expression Evaluation Or Polish Notation\n",
        "class Stack:\n",
        "    def __init__(self, max_size):\n",
        "        self.max_size = max_size\n",
        "        self.stack = []\n",
        "        self.top = -1\n",
        "\n",
        "    def is_empty(self):\n",
        "        return self.top == -1\n",
        "\n",
        "    def push(self, element):\n",
        "        if self.top == self.max_size - 1:\n",
        "            print(\"Stack Overflow\")\n",
        "        else:\n",
        "            self.top += 1\n",
        "            self.stack.append(element)\n",
        "\n",
        "    def peek(self):\n",
        "        if not self.is_empty():\n",
        "            return self.stack[-1]\n",
        "        else:\n",
        "            return None\n",
        "\n",
        "    def pop(self):\n",
        "        if self.is_empty():\n",
        "            print(\"Stack Underflow\")\n",
        "            return None\n",
        "        else:\n",
        "            popped_element = self.stack.pop()\n",
        "            self.top -= 1\n",
        "            return popped_element\n",
        "\n",
        "    def display(self):\n",
        "        if self.is_empty():\n",
        "            print(\"Stack is empty\")\n",
        "        else:\n",
        "            for i in range(self.top, -1, -1):\n",
        "                print(self.stack[i])\n",
        "st=Stack(10)\n",
        "x = ['5','3','+', '2', '*', '6', '9', '7', '+', '/', '-']\n",
        "def evaluate_postfix(expression):\n",
        "    for i in expression:\n",
        "        if i.isdigit():\n",
        "            st.push(int(i))\n",
        "        elif i in '+-*/':\n",
        "            operand2 = st.pop()\n",
        "            operand1 = st.pop()\n",
        "            if operand1 is not None and operand2 is not None:\n",
        "                if i == '+':\n",
        "                    result = operand1 + operand2\n",
        "                elif i == '-':\n",
        "                    result = operand1 - operand2\n",
        "                elif i == '*':\n",
        "                    result = operand1 * operand2\n",
        "                elif i == '/':\n",
        "                    if operand2 == 0:\n",
        "                        print(\"Division by zero error\")\n",
        "                        return None\n",
        "                    result = operand1 / operand2\n",
        "                st.push(result)\n",
        "            else:\n",
        "                return None\n",
        "result = evaluate_postfix(x)\n",
        "st.display()\n",
        "if result is not None:\n",
        "    print(\"Result:\", result)\n",
        "\n"
      ],
      "metadata": {
        "colab": {
          "base_uri": "https://localhost:8080/"
        },
        "id": "kHE6NXhjLbeK",
        "outputId": "2a99de7f-4dd3-44a9-f153-925abab3405f"
      },
      "execution_count": null,
      "outputs": [
        {
          "output_type": "stream",
          "name": "stdout",
          "text": [
            "15.625\n"
          ]
        }
      ]
    },
    {
      "cell_type": "code",
      "source": [
        "#Infix to Postfix\n",
        "class Stack:\n",
        "    def __init__(self, max_size):\n",
        "        self.max_size = max_size\n",
        "        self.stack = []\n",
        "        self.top = -1\n",
        "\n",
        "    def is_empty(self):\n",
        "        return self.top == -1\n",
        "\n",
        "    def push(self, element):\n",
        "        if self.top == self.max_size - 1:\n",
        "            print(\"Stack Overflow\")\n",
        "        else:\n",
        "            self.top += 1\n",
        "            self.stack.append(element)\n",
        "\n",
        "    def peek(self):\n",
        "        if not self.is_empty():\n",
        "            return self.stack[-1]\n",
        "        else:\n",
        "            return None\n",
        "\n",
        "    def pop(self):\n",
        "        if self.is_empty():\n",
        "            print(\"Stack Underflow\")\n",
        "            return None\n",
        "        else:\n",
        "            popped_element = self.stack.pop()\n",
        "            self.top -= 1\n",
        "            return popped_element\n",
        "\n",
        "    def display(self):\n",
        "        if self.is_empty():\n",
        "            print(\"Stack is empty\")\n",
        "        else:\n",
        "            for i in range(self.top, -1, -1):\n",
        "                print(self.stack[i])\n",
        "\n",
        "my_stack = Stack(12)\n",
        "x = \"(A+B^D)/(E-F)+G\"\n",
        "l = list(x)\n",
        "pre = {'+': 1, '-': 1, '*': 2, '/': 2, '^': 3}\n",
        "o = ['(', ')', '+', '-', '/', '*', '^']\n",
        "op = []\n",
        "\n",
        "for i in l:\n",
        "    if i in o:\n",
        "        if i == ')':\n",
        "            while not my_stack.is_empty() and my_stack.peek() != '(':\n",
        "                op.append(my_stack.pop())\n",
        "            my_stack.pop()\n",
        "        elif i == '(':\n",
        "            my_stack.push(i)\n",
        "        else:\n",
        "            while (not my_stack.is_empty() and\n",
        "                   my_stack.peek() != '(' and\n",
        "                   pre[i] <= pre.get(my_stack.peek())):\n",
        "                op.append(my_stack.pop())\n",
        "            my_stack.push(i)\n",
        "    elif i.isalpha():\n",
        "        op.append(i)\n",
        "while not my_stack.is_empty():\n",
        "    op.append(my_stack.pop())\n",
        "print(''.join(op))"
      ],
      "metadata": {
        "id": "GJUt8bB3z1aF",
        "colab": {
          "base_uri": "https://localhost:8080/"
        },
        "outputId": "24bad231-06a7-4385-d384-6f96ff0657a2"
      },
      "execution_count": null,
      "outputs": [
        {
          "output_type": "stream",
          "name": "stdout",
          "text": [
            "ABD^+EF-/G+\n"
          ]
        }
      ]
    },
    {
      "cell_type": "code",
      "source": [
        "#Infix to Prefix\n",
        "x = \"K+L-M*N+(O^P)*W/U/V*T+Q\"\n",
        "pre = x[::-1]  # Reverse the string\n",
        "# Use a temporary character to swap '(' and ')'\n",
        "pre = pre.replace('(', 'TEMP').replace(')', '(').replace('TEMP', ')')\n",
        "l2=list(pre)\n",
        "prec = {'+': 1, '-': 1, '*': 2, '/': 2, '^': 3}\n",
        "o = ['(', ')', '+', '-', '/', '*', '^']\n",
        "op = []\n",
        "\n",
        "for i in l2:\n",
        "    if i in o:\n",
        "        if i == ')':\n",
        "            while not my_stack.is_empty() and my_stack.peek() != '(':\n",
        "                op.append(my_stack.pop())\n",
        "            my_stack.pop()\n",
        "        elif i == '(':\n",
        "            my_stack.push(i)\n",
        "        else:\n",
        "            while (not my_stack.is_empty() and\n",
        "                   my_stack.peek() != '(' and\n",
        "                   prec[i] <= prec.get(my_stack.peek())):\n",
        "                op.append(my_stack.pop())\n",
        "            my_stack.push(i)\n",
        "    elif i.isalpha():\n",
        "        op.append(i)\n",
        "while not my_stack.is_empty():\n",
        "    op.append(my_stack.pop())\n",
        "print(''.join(op))\n",
        "print(op[::-1])"
      ],
      "metadata": {
        "colab": {
          "base_uri": "https://localhost:8080/"
        },
        "id": "rv8p76k34dcd",
        "outputId": "3baed071-b303-4df7-f94a-10fcc8e6a1f4"
      },
      "execution_count": null,
      "outputs": [
        {
          "output_type": "stream",
          "name": "stdout",
          "text": [
            "QTV*U/W/PO^NML-K+*+*+\n",
            "['+', '*', '+', '*', '+', 'K', '-', 'L', 'M', 'N', '^', 'O', 'P', '/', 'W', '/', 'U', '*', 'V', 'T', 'Q']\n"
          ]
        }
      ]
    },
    {
      "cell_type": "code",
      "source": [
        "# Celebrity Problem\n",
        "def celebrity(M, n):\n",
        "    stack = [i for i in range(n)]\n",
        "\n",
        "    # Step 1: Find the potential celebrity\n",
        "    while len(stack) > 1:\n",
        "        a = stack.pop()\n",
        "        b = stack.pop()\n",
        "\n",
        "        if M[a][b] == 1:  # a knows b, so a cannot be the celebrity\n",
        "            stack.append(b)\n",
        "        else:  # a doesn't know b, so b cannot be the celebrity\n",
        "            stack.append(a)\n",
        "\n",
        "    if not stack:\n",
        "        return -1  # No celebrity found\n",
        "\n",
        "    # Step 2: Verify the remaining candidate\n",
        "    candidate = stack.pop()\n",
        "\n",
        "    for i in range(n):\n",
        "        if i != candidate and (M[candidate][i] == 1 or M[i][candidate] == 0):\n",
        "            return -1  # The candidate is not a celebrity\n",
        "\n",
        "    return candidate\n",
        "\n",
        "# Example usage\n",
        "M = [[0, 1, 0],\n",
        "     [0, 0, 0],\n",
        "     [0, 1, 0]]\n",
        "\n",
        "n = 3\n",
        "print(celebrity(M, n))  # Output will be 1 (index of the celebrity)\n"
      ],
      "metadata": {
        "colab": {
          "base_uri": "https://localhost:8080/"
        },
        "id": "IiWCAHjiHVqj",
        "outputId": "431c45b9-120f-4a60-eeea-d414fb934ae2"
      },
      "execution_count": 1,
      "outputs": [
        {
          "output_type": "stream",
          "name": "stdout",
          "text": [
            "1\n"
          ]
        }
      ]
    },
    {
      "cell_type": "code",
      "source": [
        "#Palindrome Check Using Stack\n",
        "def is_palindrome(s):\n",
        "    stack = []\n",
        "    n = len(s)\n",
        "\n",
        "    # Push first half of the string onto the stack\n",
        "    for i in range(n // 2):\n",
        "        stack.append(s[i])\n",
        "\n",
        "    # Find the starting point for comparison\n",
        "    start = (n // 2) if n % 2 == 0 else (n // 2 + 1)\n",
        "\n",
        "    # Compare the second half of the string with the stack\n",
        "    for i in range(start, n):\n",
        "        if stack.pop() != s[i]:\n",
        "            return False  # Not a palindrome\n",
        "\n",
        "    return True  # Is a palindrome\n",
        "\n",
        "# Example usage\n",
        "s = \"madam\"\n",
        "print(is_palindrome(s))  # Output: True\n",
        "\n",
        "s = \"hello\"\n",
        "print(is_palindrome(s))  # Output: False\n"
      ],
      "metadata": {
        "colab": {
          "base_uri": "https://localhost:8080/"
        },
        "id": "TdgcC8KhHZGW",
        "outputId": "55793c3c-026d-4fa9-94f4-528e858128c9"
      },
      "execution_count": 2,
      "outputs": [
        {
          "output_type": "stream",
          "name": "stdout",
          "text": [
            "True\n",
            "False\n"
          ]
        }
      ]
    }
  ]
}